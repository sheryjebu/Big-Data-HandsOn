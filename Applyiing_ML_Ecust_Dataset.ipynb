{
 "cells": [
  {
   "cell_type": "code",
   "execution_count": 29,
   "id": "a647cbb3",
   "metadata": {},
   "outputs": [],
   "source": [
    "from pyspark.sql import SparkSession\n",
    "spark= SparkSession.builder.appName('Customers').getOrCreate()"
   ]
  },
  {
   "cell_type": "code",
   "execution_count": 30,
   "id": "ae6280bf",
   "metadata": {},
   "outputs": [],
   "source": [
    "from pyspark.ml.regression import LinearRegression"
   ]
  },
  {
   "cell_type": "code",
   "execution_count": 31,
   "id": "91c7701f",
   "metadata": {},
   "outputs": [],
   "source": [
    "#Load Dataset\n",
    "cust_data=spark.read.csv(\"Ecommerce Customers.csv\",inferSchema=True,header=True)"
   ]
  },
  {
   "cell_type": "code",
   "execution_count": 32,
   "id": "cef6522c",
   "metadata": {},
   "outputs": [
    {
     "data": {
      "text/plain": [
       "DataFrame[Email: string, Address: string, Avatar: string, Avg Session Length: double, Time on App: double, Time on Website: double, Length of Membership: double, Yearly Amount Spent: double]"
      ]
     },
     "execution_count": 32,
     "metadata": {},
     "output_type": "execute_result"
    }
   ],
   "source": [
    "cust_data"
   ]
  },
  {
   "cell_type": "code",
   "execution_count": 33,
   "id": "f919b18a",
   "metadata": {},
   "outputs": [
    {
     "name": "stdout",
     "output_type": "stream",
     "text": [
      "+--------------------+--------------------+----------------+------------------+-----------+---------------+--------------------+-------------------+\n",
      "|               Email|             Address|          Avatar|Avg Session Length|Time on App|Time on Website|Length of Membership|Yearly Amount Spent|\n",
      "+--------------------+--------------------+----------------+------------------+-----------+---------------+--------------------+-------------------+\n",
      "|mstephenson@ferna...|    835 Frank Tunnel|            null|              null|       null|           null|                null|               null|\n",
      "|         Wrightmouth|      MI 82180-9605\"|          Violet|       34.49726773|12.65565115|    39.57766802|         4.082620633|         587.951054|\n",
      "|   hduke@hotmail.com|  4547 Archer Common|            null|              null|       null|           null|                null|               null|\n",
      "|         Diazchester|      CA 06566-8576\"|       DarkGreen|       31.92627203|11.10946073|    37.26895887|         2.664034182|        392.2049334|\n",
      "|    pallen@yahoo.com|24645 Valerie Uni...|            null|              null|       null|           null|                null|               null|\n",
      "|         Cobbborough|      DC 99414-7564\"|          Bisque|       33.00091476|11.33027806|    37.11059744|         4.104543202|        487.5475049|\n",
      "|riverarebecca@gma...|1414 David Throug...|            null|              null|       null|           null|                null|               null|\n",
      "|          Port Jason|      OH 22070-1220\"|     SaddleBrown|       34.30555663|13.71751367|    36.72128268|         3.120178783|         581.852344|\n",
      "|mstephens@davidso...|14023 Rodriguez P...|            null|              null|       null|           null|                null|               null|\n",
      "|     Port Jacobville|      PR 37242-1057\"|MediumAquaMarine|       33.33067252|12.79518855|     37.5366533|         4.446308318|         599.406092|\n",
      "|alvareznancy@luca...|645 Martha Park A...|            null|              null|       null|           null|                null|               null|\n",
      "|      Jeffreychester|      MN 67218-7250\"|     FloralWhite|       33.87103788|12.02692534|    34.47687763|         5.493507201|        637.1024479|\n",
      "|katherine20@yahoo...|68388 Reyes Light...|            null|              null|       null|           null|                null|               null|\n",
      "|          Josephbury|      WV 92213-0247\"|   DarkSlateBlue|        32.0215955|11.36634831|    36.68377615|         4.685017247|        521.5721748|\n",
      "|  awatkins@yahoo.com|  Unit 6538 Box 8980|            null|              null|       null|           null|                null|               null|\n",
      "|  DPO AP 09026-4941\"|                Aqua|     32.73914294|       12.35195897|37.37335886|    4.434273435|         549.9041461|               null|\n",
      "|vchurch@walter-ma...|         860 Lee Key|            null|              null|       null|           null|                null|               null|\n",
      "|          West Debra|      SD 97450-0495\"|          Salmon|        33.9877729|13.38623528|    37.53449734|         3.273433578|         570.200409|\n",
      "|    bonnie69@lin.biz|  PSC 2734, Box 5255|            null|              null|       null|           null|                null|               null|\n",
      "|  APO AA 98456-7482\"|               Brown|     31.93654862|       11.81412829|37.14516822|    3.202806072|         427.1993849|               null|\n",
      "+--------------------+--------------------+----------------+------------------+-----------+---------------+--------------------+-------------------+\n",
      "only showing top 20 rows\n",
      "\n"
     ]
    }
   ],
   "source": [
    "cust_data.show()"
   ]
  },
  {
   "cell_type": "code",
   "execution_count": 34,
   "id": "48751284",
   "metadata": {},
   "outputs": [],
   "source": [
    "#Preprocessing the dataset\n",
    "# check for null values\n",
    "#cust_data.dropna().show(truncate=False)\n",
    "#cust_data.na.drop().show(truncate=False)\n"
   ]
  },
  {
   "cell_type": "code",
   "execution_count": 35,
   "id": "54b76c9f",
   "metadata": {},
   "outputs": [
    {
     "name": "stdout",
     "output_type": "stream",
     "text": [
      "root\n",
      " |-- Email: string (nullable = true)\n",
      " |-- Address: string (nullable = true)\n",
      " |-- Avatar: string (nullable = true)\n",
      " |-- Avg Session Length: double (nullable = true)\n",
      " |-- Time on App: double (nullable = true)\n",
      " |-- Time on Website: double (nullable = true)\n",
      " |-- Length of Membership: double (nullable = true)\n",
      " |-- Yearly Amount Spent: double (nullable = true)\n",
      "\n"
     ]
    }
   ],
   "source": [
    "cust_data.printSchema()"
   ]
  },
  {
   "cell_type": "code",
   "execution_count": 52,
   "id": "cac532bb",
   "metadata": {},
   "outputs": [
    {
     "name": "stdout",
     "output_type": "stream",
     "text": [
      "+------------------+---------------+----------------+------------------+-----------+---------------+--------------------+-------------------+\n",
      "|Email             |Address        |Avatar          |Avg Session Length|Time on App|Time on Website|Length of Membership|Yearly Amount Spent|\n",
      "+------------------+---------------+----------------+------------------+-----------+---------------+--------------------+-------------------+\n",
      "|Wrightmouth       | MI 82180-9605\"|Violet          |34.49726773       |12.65565115|39.57766802    |4.082620633         |587.951054         |\n",
      "|Diazchester       | CA 06566-8576\"|DarkGreen       |31.92627203       |11.10946073|37.26895887    |2.664034182         |392.2049334        |\n",
      "|Cobbborough       | DC 99414-7564\"|Bisque          |33.00091476       |11.33027806|37.11059744    |4.104543202         |487.5475049        |\n",
      "|Port Jason        | OH 22070-1220\"|SaddleBrown     |34.30555663       |13.71751367|36.72128268    |3.120178783         |581.852344         |\n",
      "|Port Jacobville   | PR 37242-1057\"|MediumAquaMarine|33.33067252       |12.79518855|37.5366533     |4.446308318         |599.406092         |\n",
      "|Jeffreychester    | MN 67218-7250\"|FloralWhite     |33.87103788       |12.02692534|34.47687763    |5.493507201         |637.1024479        |\n",
      "|Josephbury        | WV 92213-0247\"|DarkSlateBlue   |32.0215955        |11.36634831|36.68377615    |4.685017247         |521.5721748        |\n",
      "|West Debra        | SD 97450-0495\"|Salmon          |33.9877729        |13.38623528|37.53449734    |3.273433578         |570.200409         |\n",
      "|Alexandriaport    | WY 28244-9149\"|Tomato          |33.99257277       |13.33897545|37.22580613    |2.482607771         |492.6060127        |\n",
      "|Lake Shanestad    | MO 75696-5051\"|RoyalBlue       |29.53242897       |10.9612984 |37.42021558    |4.046423164         |408.6403511        |\n",
      "|New Stephaniehaven| MP 42268\"     |Bisque          |33.19033404       |12.95922609|36.1446667     |3.918541839         |573.4158673        |\n",
      "|Samanthaland      | ND 44358\"     |DarkBlue        |32.38797585       |13.14872569|36.61995708    |2.494543647         |470.4527333        |\n",
      "|Phillipstad       | OH 35641-3238\"|Peru            |30.73772037       |12.63660605|36.21376309    |3.357846842         |461.7807422        |\n",
      "|Johnsonfurt       | GA 15169\"     |PowderBlue      |32.1253869        |11.73386169|34.89409275    |3.136132716         |457.8476959        |\n",
      "|Wilsonton         | PW 88606\"     |OliveDrab       |32.33889932       |12.01319469|38.38513659    |2.420806161         |407.7045475        |\n",
      "|Port Dannytown    | PW 63227\"     |Cyan            |32.18781205       |14.71538754|38.24411459    |1.516575581         |452.3156755        |\n",
      "|North Johnview    | MT 57912\"     |LightSeaGreen   |32.61785606       |13.98959256|37.1905038     |4.06454855          |605.0610388        |\n",
      "|North Teresa      | KY 50756\"     |PeachPuff       |32.91278511       |11.36549203|37.60779252    |4.599937358         |534.7057438        |\n",
      "|Nicholsbury       | WV 60804-4440\"|Wheat           |34.507551         |12.8936695 |37.63575588    |5.705153971         |700.9170916        |\n",
      "|Glassport         | ND 17957-5596\"|Teal            |33.02933195       |11.76581265|37.73852495    |2.721735992         |423.1799917        |\n",
      "+------------------+---------------+----------------+------------------+-----------+---------------+--------------------+-------------------+\n",
      "only showing top 20 rows\n",
      "\n"
     ]
    }
   ],
   "source": [
    "#Exploring Columns\n",
    "#delete null columns\n",
    "cust_data.dropna().show(truncate=False)"
   ]
  },
  {
   "cell_type": "code",
   "execution_count": 53,
   "id": "0e93b329",
   "metadata": {},
   "outputs": [
    {
     "name": "stdout",
     "output_type": "stream",
     "text": [
      "+-----+-------+------+------------------+-----------+---------------+--------------------+-------------------+\n",
      "|Email|Address|Avatar|Avg Session Length|Time on App|Time on Website|Length of Membership|Yearly Amount Spent|\n",
      "+-----+-------+------+------------------+-----------+---------------+--------------------+-------------------+\n",
      "|    0|      0|   500|               500|        500|            500|                 500|                546|\n",
      "+-----+-------+------+------------------+-----------+---------------+--------------------+-------------------+\n",
      "\n"
     ]
    }
   ],
   "source": [
    "#The code above  d format as below.\n",
    "\n",
    "from pyspark.sql.functions import count\n",
    "from pyspark.sql.functions import when\n",
    "from pyspark.sql.functions import col\n",
    "cust_data.select([count(when(col(c).isNull(), c)).alias(c) for c in cust_data.columns]).show()"
   ]
  },
  {
   "cell_type": "code",
   "execution_count": 54,
   "id": "95a62fa8",
   "metadata": {},
   "outputs": [],
   "source": [
    "#Next we are going to use dropna method to remove the null value from the columns.\n",
    "cust_data = cust_data.dropna(how='any')"
   ]
  },
  {
   "cell_type": "code",
   "execution_count": 55,
   "id": "0c4eaaff",
   "metadata": {},
   "outputs": [
    {
     "name": "stdout",
     "output_type": "stream",
     "text": [
      "+-----+-------+------+------------------+-----------+---------------+--------------------+-------------------+\n",
      "|Email|Address|Avatar|Avg Session Length|Time on App|Time on Website|Length of Membership|Yearly Amount Spent|\n",
      "+-----+-------+------+------------------+-----------+---------------+--------------------+-------------------+\n",
      "|    0|      0|     0|                 0|          0|              0|                   0|                  0|\n",
      "+-----+-------+------+------------------+-----------+---------------+--------------------+-------------------+\n",
      "\n"
     ]
    }
   ],
   "source": [
    "cust_data.select([count(when(col(c).isNull(), c)).alias(c) for c in cust_data.columns]).show()"
   ]
  },
  {
   "cell_type": "code",
   "execution_count": 37,
   "id": "349a3249",
   "metadata": {},
   "outputs": [],
   "source": [
    "#sklearn\n",
    "\n",
    "#x1,X2,X3,X4,X5    Y1 ---->model-->prediction\n",
    "\n",
    "#[X1,X2,X3,X4,X5]  Y1---->model--->prediction"
   ]
  },
  {
   "cell_type": "code",
   "execution_count": 93,
   "id": "b79be42d",
   "metadata": {},
   "outputs": [
    {
     "name": "stdout",
     "output_type": "stream",
     "text": [
      "+---------------+---------------+----------------+------------------+-----------+---------------+--------------------+-------------------+\n",
      "|          Email|        Address|          Avatar|Avg_Session_Length|Time_on_App|Time_on_Website|Length_of_Membership|Yearly_Amount_Spent|\n",
      "+---------------+---------------+----------------+------------------+-----------+---------------+--------------------+-------------------+\n",
      "|    Wrightmouth| MI 82180-9605\"|          Violet|       34.49726773|12.65565115|    39.57766802|         4.082620633|         587.951054|\n",
      "|    Diazchester| CA 06566-8576\"|       DarkGreen|       31.92627203|11.10946073|    37.26895887|         2.664034182|        392.2049334|\n",
      "|    Cobbborough| DC 99414-7564\"|          Bisque|       33.00091476|11.33027806|    37.11059744|         4.104543202|        487.5475049|\n",
      "|     Port Jason| OH 22070-1220\"|     SaddleBrown|       34.30555663|13.71751367|    36.72128268|         3.120178783|         581.852344|\n",
      "|Port Jacobville| PR 37242-1057\"|MediumAquaMarine|       33.33067252|12.79518855|     37.5366533|         4.446308318|         599.406092|\n",
      "+---------------+---------------+----------------+------------------+-----------+---------------+--------------------+-------------------+\n",
      "only showing top 5 rows\n",
      "\n"
     ]
    }
   ],
   "source": [
    "#To rename a column, we can use withColumnRenamed method\n",
    "cust_data = cust_data.withColumnRenamed('Avg Session Length', 'Avg_Session_Length')\n",
    "cust_data = cust_data.withColumnRenamed('Time on App', 'Time_on_App')\n",
    "cust_data = cust_data.withColumnRenamed('Time on Website', 'Time_on_Website')\n",
    "cust_data = cust_data.withColumnRenamed('Length of Membership', 'Length_of_Membership')\n",
    "cust_data = cust_data.withColumnRenamed('Yearly Amount Spent', 'Yearly_Amount_Spent')\n",
    "cust_data.show(5)"
   ]
  },
  {
   "cell_type": "code",
   "execution_count": 94,
   "id": "23129810",
   "metadata": {},
   "outputs": [
    {
     "name": "stdout",
     "output_type": "stream",
     "text": [
      "+-----------------+---------------+------+------------------+-----------+---------------+--------------------+-------------------+\n",
      "|            Email|        Address|Avatar|Avg_Session_Length|Time_on_App|Time_on_Website|Length_of_Membership|Yearly_Amount_Spent|\n",
      "+-----------------+---------------+------+------------------+-----------+---------------+--------------------+-------------------+\n",
      "|      Wrightmouth| MI 82180-9605\"|Violet|       34.49726773|12.65565115|    39.57766802|         4.082620633|         587.951054|\n",
      "|North Christopher|      RI 60962\"|Violet|       33.73264839|12.13879388|    36.85388246|         1.623419609|        399.9838716|\n",
      "|       Jonesshire|      GU 33532\"|Violet|       33.66661568|10.98576379|    36.35250277|         0.936497597|        304.1355916|\n",
      "+-----------------+---------------+------+------------------+-----------+---------------+--------------------+-------------------+\n",
      "\n"
     ]
    }
   ],
   "source": [
    "##Query Data\n",
    "#filter method and this will return all the records that match the condition\n",
    "cust_data.filter(cust_data[\"Avatar\"] == \"Violet\").show(10)"
   ]
  },
  {
   "cell_type": "code",
   "execution_count": 95,
   "id": "e0f06cc7",
   "metadata": {},
   "outputs": [
    {
     "name": "stdout",
     "output_type": "stream",
     "text": [
      "+---------------+---------------+----------------+------------------+-----------+---------------+--------------------+-------------------+\n",
      "|          Email|        Address|          Avatar|Avg_Session_Length|Time_on_App|Time_on_Website|Length_of_Membership|Yearly_Amount_Spent|\n",
      "+---------------+---------------+----------------+------------------+-----------+---------------+--------------------+-------------------+\n",
      "|    Wrightmouth| MI 82180-9605\"|          Violet|       34.49726773|12.65565115|    39.57766802|         4.082620633|         587.951054|\n",
      "|    Diazchester| CA 06566-8576\"|       DarkGreen|       31.92627203|11.10946073|    37.26895887|         2.664034182|        392.2049334|\n",
      "|    Cobbborough| DC 99414-7564\"|          Bisque|       33.00091476|11.33027806|    37.11059744|         4.104543202|        487.5475049|\n",
      "|     Port Jason| OH 22070-1220\"|     SaddleBrown|       34.30555663|13.71751367|    36.72128268|         3.120178783|         581.852344|\n",
      "|Port Jacobville| PR 37242-1057\"|MediumAquaMarine|       33.33067252|12.79518855|     37.5366533|         4.446308318|         599.406092|\n",
      "| Jeffreychester| MN 67218-7250\"|     FloralWhite|       33.87103788|12.02692534|    34.47687763|         5.493507201|        637.1024479|\n",
      "|     Josephbury| WV 92213-0247\"|   DarkSlateBlue|        32.0215955|11.36634831|    36.68377615|         4.685017247|        521.5721748|\n",
      "|     West Debra| SD 97450-0495\"|          Salmon|        33.9877729|13.38623528|    37.53449734|         3.273433578|         570.200409|\n",
      "| Alexandriaport| WY 28244-9149\"|          Tomato|       33.99257277|13.33897545|    37.22580613|         2.482607771|        492.6060127|\n",
      "| Lake Shanestad| MO 75696-5051\"|       RoyalBlue|       29.53242897| 10.9612984|    37.42021558|         4.046423164|        408.6403511|\n",
      "+---------------+---------------+----------------+------------------+-----------+---------------+--------------------+-------------------+\n",
      "only showing top 10 rows\n",
      "\n"
     ]
    }
   ],
   "source": [
    "#Query data with > 300 as Yearly Amount Spent\n",
    "cust_data.filter(cust_data[\"Yearly_Amount_Spent\"] > 300).show(10)"
   ]
  },
  {
   "cell_type": "code",
   "execution_count": 96,
   "id": "4e6c6622",
   "metadata": {},
   "outputs": [
    {
     "name": "stdout",
     "output_type": "stream",
     "text": [
      "+-------+-----------+---------------+-----------+------------------+------------------+------------------+--------------------+-------------------+\n",
      "|summary|      Email|        Address|     Avatar|Avg_Session_Length|       Time_on_App|   Time_on_Website|Length_of_Membership|Yearly_Amount_Spent|\n",
      "+-------+-----------+---------------+-----------+------------------+------------------+------------------+--------------------+-------------------+\n",
      "|  count|        454|            454|        454|               454|               454|               454|                 454|                454|\n",
      "|   mean|       null|           null|       null| 33.05261526656388|12.041631150147582|37.052821853303996|    3.54680345731718|  499.9198577182819|\n",
      "| stddev|       null|           null|       null|0.9976033532094202|0.9798699693020125|0.9978633724043364|  0.9920319137803321|  78.32579269003342|\n",
      "|    min|Abigailstad|      AK 05665\"|  AliceBlue|       29.53242897|       8.508152176|       34.47687763|          0.26990109|        266.0863409|\n",
      "|    max|  Youngberg| WY 73586-4597\"|YellowGreen|       36.13966249|       15.12699429|       40.00518164|         6.401228838|        765.5184619|\n",
      "+-------+-----------+---------------+-----------+------------------+------------------+------------------+--------------------+-------------------+\n",
      "\n"
     ]
    }
   ],
   "source": [
    "# Descriptive statistics\n",
    "##With single line of code, the describe method displays a descriptive statistic summary for each column.\n",
    "cust_data.describe().show()"
   ]
  },
  {
   "cell_type": "code",
   "execution_count": 97,
   "id": "acceccfe",
   "metadata": {},
   "outputs": [],
   "source": [
    "##Data visualization\n",
    "#Pie Chart\n",
    "cust_cat_mean = cust_data.groupby(\"Avatar\").agg({'Avg_Session_Length': \"mean\"})\n"
   ]
  },
  {
   "cell_type": "code",
   "execution_count": 98,
   "id": "23e0e641",
   "metadata": {},
   "outputs": [
    {
     "data": {
      "text/plain": [
       "DataFrame[Avatar: string, avg(Avg_Session_Length): double]"
      ]
     },
     "metadata": {},
     "output_type": "display_data"
    },
    {
     "name": "stdout",
     "output_type": "stream",
     "text": [
      "+--------------+-----------------------+\n",
      "|        Avatar|avg(Avg_Session_Length)|\n",
      "+--------------+-----------------------+\n",
      "|   ForestGreen|           33.666202985|\n",
      "|       DimGray|     32.152639557499995|\n",
      "|      SeaGreen|     33.728089780000005|\n",
      "|          Teal|      32.82890038666667|\n",
      "|          Aqua|           33.111243774|\n",
      "|    DodgerBlue|     31.337080936666666|\n",
      "|     MintCream|     33.440740256666665|\n",
      "|         Khaki|     31.840526930000003|\n",
      "|     LightGray|     33.027093816666664|\n",
      "|     LightBlue|           33.695299745|\n",
      "|         Olive|      32.63079797333333|\n",
      "|     OrangeRed|     33.031729115000005|\n",
      "|LightSteelBlue|           32.035651715|\n",
      "|      SeaShell|     33.950435373333335|\n",
      "|       Crimson|           32.869134152|\n",
      "|     BurlyWood|            32.97145076|\n",
      "|       SkyBlue|      33.02944213000001|\n",
      "|        Orange|          33.4709295125|\n",
      "|  MediumOrchid|            33.30305462|\n",
      "|     SteelBlue|            33.39060526|\n",
      "+--------------+-----------------------+\n",
      "only showing top 20 rows\n",
      "\n"
     ]
    }
   ],
   "source": [
    "display(cust_cat_mean)\n",
    "cust_cat_mean.show()"
   ]
  },
  {
   "cell_type": "code",
   "execution_count": 198,
   "id": "8c58931b",
   "metadata": {},
   "outputs": [
    {
     "data": {
      "image/png": "[encoded data removed]",
      "text/plain": [
       "<Figure size 432x288 with 2 Axes>"
      ]
     },
     "metadata": {},
     "output_type": "display_data"
    },
    {
     "data": {
      "image/png": "[encoded data removed]",
      "text/plain": [
       "<Figure size 432x288 with 2 Axes>"
      ]
     },
     "metadata": {
      "needs_background": "light"
     },
     "output_type": "display_data"
    }
   ],
   "source": [
    "# histogram of Yearly_Amount_Spent\n",
    "import matplotlib.pyplot as plt\n",
    "from math import log\n",
    "npts = 400\n",
    "shares = cust_data.select('Yearly_Amount_Spent').take(npts)\n",
    "yy = [float(y[0]) for y in shares]\n",
    "logy = [log(y) for y in yy]\n",
    "f, axes = plt.subplots(1,2)\n",
    "f.tight_layout()\n",
    "axes[0].hist(yy, bins=20, log=True)\n",
    "axes[0].set_title('log-Histogram of Yrly_Amnt Spent')\n",
    "axes[1].hist(logy, bins=20, log=False)\n",
    "axes[1].set_title('Histogram of log(Yrly_Amnt Spent)')\n",
    "display(f)"
   ]
  },
  {
   "cell_type": "code",
   "execution_count": 112,
   "id": "c7c51160",
   "metadata": {},
   "outputs": [],
   "source": [
    "from pyspark.sql import SparkSession\n",
    "from pyspark.sql import SQLContext\n",
    "import seaborn as sns\n",
    "import matplotlib.pyplot as plt"
   ]
  },
  {
   "cell_type": "code",
   "execution_count": 113,
   "id": "16bb407e",
   "metadata": {},
   "outputs": [],
   "source": [
    "from pyspark.ml.linalg import Vectors\n",
    "from pyspark.ml.feature import VectorAssembler"
   ]
  },
  {
   "cell_type": "code",
   "execution_count": 117,
   "id": "4fb4b760",
   "metadata": {},
   "outputs": [],
   "source": [
    "featureassembler=VectorAssembler(inputCols=[\"Avg_Session_Length\",\"Time_on_App\",\"Time_on_Website\",\"Length_of_Membership\"],\n",
    "                                 outputCol=\"Independent_Features\")"
   ]
  },
  {
   "cell_type": "code",
   "execution_count": 118,
   "id": "27e55029",
   "metadata": {},
   "outputs": [
    {
     "data": {
      "text/plain": [
       "<bound method DataFrame.show of DataFrame[Email: string, Address: string, Avatar: string, Avg_Session_Length: double, Time_on_App: double, Time_on_Website: double, Length_of_Membership: double, Yearly_Amount_Spent: double, Independent_Features: vector]>"
      ]
     },
     "execution_count": 118,
     "metadata": {},
     "output_type": "execute_result"
    }
   ],
   "source": [
    "featureassembler.setHandleInvalid(\"skip\").transform(cust_data).show\n"
   ]
  },
  {
   "cell_type": "code",
   "execution_count": 119,
   "id": "2d77ef4e",
   "metadata": {},
   "outputs": [],
   "source": [
    "output=featureassembler.transform(cust_data)"
   ]
  },
  {
   "cell_type": "code",
   "execution_count": 120,
   "id": "23b410df",
   "metadata": {},
   "outputs": [
    {
     "data": {
      "text/plain": [
       "DataFrame[Independent_Features: vector]"
      ]
     },
     "execution_count": 120,
     "metadata": {},
     "output_type": "execute_result"
    }
   ],
   "source": [
    "output.select(\"Independent_Features\")"
   ]
  },
  {
   "cell_type": "code",
   "execution_count": 121,
   "id": "ed71ebbb",
   "metadata": {},
   "outputs": [
    {
     "data": {
      "text/plain": [
       "['Email',\n",
       " 'Address',\n",
       " 'Avatar',\n",
       " 'Avg_Session_Length',\n",
       " 'Time_on_App',\n",
       " 'Time_on_Website',\n",
       " 'Length_of_Membership',\n",
       " 'Yearly_Amount_Spent',\n",
       " 'Independent_Features']"
      ]
     },
     "execution_count": 121,
     "metadata": {},
     "output_type": "execute_result"
    }
   ],
   "source": [
    "output.columns"
   ]
  },
  {
   "cell_type": "code",
   "execution_count": 122,
   "id": "a3ebd74d",
   "metadata": {},
   "outputs": [],
   "source": [
    "finalized_data=output.select(\"Independent_Features\",\"Yearly_Amount_Spent\")"
   ]
  },
  {
   "cell_type": "code",
   "execution_count": 123,
   "id": "7a3b799d",
   "metadata": {},
   "outputs": [
    {
     "name": "stdout",
     "output_type": "stream",
     "text": [
      "+--------------------+-------------------+\n",
      "|Independent_Features|Yearly_Amount_Spent|\n",
      "+--------------------+-------------------+\n",
      "|[34.49726773,12.6...|         587.951054|\n",
      "|[31.92627203,11.1...|        392.2049334|\n",
      "|[33.00091476,11.3...|        487.5475049|\n",
      "|[34.30555663,13.7...|         581.852344|\n",
      "|[33.33067252,12.7...|         599.406092|\n",
      "|[33.87103788,12.0...|        637.1024479|\n",
      "|[32.0215955,11.36...|        521.5721748|\n",
      "|[33.9877729,13.38...|         570.200409|\n",
      "|[33.99257277,13.3...|        492.6060127|\n",
      "|[29.53242897,10.9...|        408.6403511|\n",
      "|[33.19033404,12.9...|        573.4158673|\n",
      "|[32.38797585,13.1...|        470.4527333|\n",
      "|[30.73772037,12.6...|        461.7807422|\n",
      "|[32.1253869,11.73...|        457.8476959|\n",
      "|[32.33889932,12.0...|        407.7045475|\n",
      "|[32.18781205,14.7...|        452.3156755|\n",
      "|[32.61785606,13.9...|        605.0610388|\n",
      "|[32.91278511,11.3...|        534.7057438|\n",
      "|[34.507551,12.893...|        700.9170916|\n",
      "|[33.02933195,11.7...|        423.1799917|\n",
      "+--------------------+-------------------+\n",
      "only showing top 20 rows\n",
      "\n"
     ]
    }
   ],
   "source": [
    "finalized_data.show()"
   ]
  },
  {
   "cell_type": "code",
   "execution_count": 124,
   "id": "2ede169a",
   "metadata": {},
   "outputs": [],
   "source": [
    "#Splitting Dataset\n",
    "train_data,test_data=finalized_data.randomSplit([0.75,0.25])"
   ]
  },
  {
   "cell_type": "code",
   "execution_count": 126,
   "id": "3683b763",
   "metadata": {},
   "outputs": [],
   "source": [
    "regressor=LinearRegression(featuresCol='Independent_Features', labelCol='Yearly_Amount_Spent')\n",
    "regressor=regressor.fit(train_data)"
   ]
  },
  {
   "cell_type": "code",
   "execution_count": 127,
   "id": "164d34c8",
   "metadata": {},
   "outputs": [
    {
     "data": {
      "text/plain": [
       "DenseVector([25.4803, 38.0527, 0.3847, 61.8461])"
      ]
     },
     "execution_count": 127,
     "metadata": {},
     "output_type": "execute_result"
    }
   ],
   "source": [
    "regressor.coefficients"
   ]
  },
  {
   "cell_type": "code",
   "execution_count": 128,
   "id": "86684d2c",
   "metadata": {},
   "outputs": [
    {
     "data": {
      "text/plain": [
       "-1034.4315279744703"
      ]
     },
     "execution_count": 128,
     "metadata": {},
     "output_type": "execute_result"
    }
   ],
   "source": [
    "regressor.intercept"
   ]
  },
  {
   "cell_type": "code",
   "execution_count": 129,
   "id": "9724a8e7",
   "metadata": {},
   "outputs": [],
   "source": [
    "pred_results=regressor.evaluate(test_data)"
   ]
  },
  {
   "cell_type": "code",
   "execution_count": 130,
   "id": "ede3b5c0",
   "metadata": {},
   "outputs": [
    {
     "name": "stdout",
     "output_type": "stream",
     "text": [
      "+--------------------+-------------------+------------------+\n",
      "|Independent_Features|Yearly_Amount_Spent|        prediction|\n",
      "+--------------------+-------------------+------------------+\n",
      "|[30.39318454,11.8...|        319.9288698|331.97710083094853|\n",
      "|[30.57436368,11.3...|        442.0644138|443.04535659140174|\n",
      "|[30.97167564,11.7...|        494.6386098| 488.7767235429217|\n",
      "|[31.06621816,11.7...|        448.9332932|462.61820685111456|\n",
      "|[31.12397435,12.3...|        486.9470538|508.89023708518835|\n",
      "|[31.26810421,12.1...|        423.4705332|427.59930113810765|\n",
      "|[31.30919264,11.9...|        432.7207178|430.12977337518646|\n",
      "|[31.42522688,13.2...|        530.7667187| 534.3849602690939|\n",
      "|[31.44744649,10.1...|        418.6027421| 428.0099921800854|\n",
      "|[31.57020083,13.3...|        545.9454921|   563.26482637192|\n",
      "|[31.6005122,12.22...|        479.1728515|461.21479459157194|\n",
      "|[31.73663569,10.7...|        496.9334463|496.04484584226384|\n",
      "|[31.86274111,14.0...|        556.2981412| 557.1318804059781|\n",
      "|[31.87455169,10.2...|        392.2852442| 399.4339491579392|\n",
      "|[31.90485713,12.2...|        473.9498574| 491.2872692030983|\n",
      "|[31.95490386,10.9...|        439.9978799|432.64943361424935|\n",
      "|[32.04983939,12.2...|        478.7193569|455.79314281187203|\n",
      "|[32.05426185,13.1...|        561.8746577| 556.6668833804301|\n",
      "|[32.07894758,12.7...|        357.8637186| 351.7112568896591|\n",
      "|[32.11511907,11.9...|        350.0582002| 341.8220605988299|\n",
      "|[32.13386241,11.6...|        443.4418601| 448.4776900463585|\n",
      "|[32.18781205,14.7...|        452.3156755| 454.1897045040737|\n",
      "|[32.18984473,11.3...|        533.3965538| 531.1427073806587|\n",
      "|[32.1977238,11.83...|        514.0889577|509.58149777036056|\n",
      "|[32.22729914,13.7...|        613.5993234| 620.7817700050723|\n",
      "|[32.27844335,12.5...|         488.270298|497.25374931315014|\n",
      "|[32.33598964,13.0...|        486.8389348|484.35609459888747|\n",
      "|[32.33889932,12.0...|        407.7045475|411.19121657066853|\n",
      "|[32.34279623,11.4...|        486.0834255| 477.0982447535748|\n",
      "|[32.38797585,13.1...|        470.4527333|  459.533011921538|\n",
      "|[32.40173183,12.0...|        506.5473071|505.49311375907314|\n",
      "|[32.40855896,10.9...|        441.8966315| 440.5205469627358|\n",
      "|[32.42330473,13.0...|        503.2173931| 511.5747514890677|\n",
      "|[32.42569728,11.4...|        420.7376732| 401.8967985226129|\n",
      "|[32.44952156,13.4...|        503.9783791| 500.7345402882913|\n",
      "|[32.48426048,10.9...|         425.745092| 425.0755005309777|\n",
      "|[32.49839307,13.4...|         518.064558| 514.7538762387592|\n",
      "|[32.53323998,14.1...|        689.2356998| 675.6984566638514|\n",
      "|[32.54345917,13.3...|        537.2150527| 539.2291111096486|\n",
      "|[32.56723048,12.4...|        537.8461953|  545.764559136986|\n",
      "+--------------------+-------------------+------------------+\n",
      "only showing top 40 rows\n",
      "\n"
     ]
    }
   ],
   "source": [
    "pred_results.predictions.show(40)"
   ]
  },
  {
   "cell_type": "code",
   "execution_count": null,
   "id": "dd7e1cbe",
   "metadata": {},
   "outputs": [],
   "source": []
  }
 ],
 "metadata": {
  "kernelspec": {
   "display_name": "Python 3",
   "language": "python",
   "name": "python3"
  },
  "language_info": {
   "codemirror_mode": {
    "name": "ipython",
    "version": 3
   },
   "file_extension": ".py",
   "mimetype": "text/x-python",
   "name": "python",
   "nbconvert_exporter": "python",
   "pygments_lexer": "ipython3",
   "version": "3.8.8"
  }
 },
 "nbformat": 4,
 "nbformat_minor": 5
}
